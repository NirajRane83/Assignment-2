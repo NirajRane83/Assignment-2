{
 "cells": [
  {
   "cell_type": "markdown",
   "id": "5c6567ee-bab9-4f5b-8db6-a9c6248cfaed",
   "metadata": {
    "editable": true,
    "slideshow": {
     "slide_type": ""
    },
    "tags": []
   },
   "source": [
    "Q1. Create a package named ‘cricket’ which will contain modules named\n",
    "batsman and bowler. Create following functions in respective modules.\n",
    "Import the package and call all these functions in your program\n",
    "batsman: findaverage(runs,matches), strikerate(runs,balls)\n",
    "bowler: findavg(runs,wickets), economyrate(overs, runs)"
   ]
  },
  {
   "cell_type": "code",
   "execution_count": 3,
   "id": "56478008-5ae7-42ef-8a99-2a109882fb4a",
   "metadata": {
    "scrolled": true
   },
   "outputs": [
    {
     "name": "stdout",
     "output_type": "stream",
     "text": [
      "Batsman Average: 30.00\n",
      "Batsman Strike Rate: 125.00\n",
      "Bowler Average: 24.00\n",
      "Bowler Economy Rate: 6.00\n",
      "Batsman Average: 30.00\n",
      "Batsman Strike Rate: 125.00\n",
      "Bowler Average: 24.00\n",
      "Bowler Economy Rate: 6.00\n"
     ]
    }
   ],
   "source": [
    "# batsman.py\n",
    "\n",
    "def findaverage(runs, matches):\n",
    "    if matches == 0:\n",
    "        return 0\n",
    "    return runs / matches\n",
    "\n",
    "def strikerate(runs, balls):\n",
    "    if balls == 0:\n",
    "        return 0\n",
    "    return (runs / balls) * 100\n",
    "# bowler.py\n",
    "\n",
    "def findavg(runs, wickets):\n",
    "    if wickets == 0:\n",
    "        return float('inf')  # Avoid division by zero\n",
    "    return runs / wickets\n",
    "\n",
    "def economyrate(overs, runs):\n",
    "    if overs == 0:\n",
    "        return float('inf')  # Avoid division by zero\n",
    "    return runs / overs\n",
    "# main.py\n",
    "\n",
    "# First, define the functions as we would in separate module files\n",
    "def findaverage(runs, matches):\n",
    "    if matches == 0:\n",
    "        return 0\n",
    "    return runs / matches\n",
    "\n",
    "def strikerate(runs, balls):\n",
    "    if balls == 0:\n",
    "        return 0\n",
    "    return (runs / balls) * 100\n",
    "\n",
    "def findavg(runs, wickets):\n",
    "    if wickets == 0:\n",
    "        return float('inf')  # Avoid division by zero\n",
    "    return runs / wickets\n",
    "\n",
    "def economyrate(overs, runs):\n",
    "    if overs == 0:\n",
    "        return float('inf')  # Avoid division by zero\n",
    "    return runs / overs\n",
    "\n",
    "# Using the functions defined above\n",
    "# Batsman calculations\n",
    "runs = 1500\n",
    "matches = 50\n",
    "balls = 1200\n",
    "\n",
    "batsman_avg = findaverage(runs, matches)\n",
    "batsman_sr = strikerate(runs, balls)\n",
    "\n",
    "print(f\"Batsman Average: {batsman_avg:.2f}\")\n",
    "print(f\"Batsman Strike Rate: {batsman_sr:.2f}\")\n",
    "\n",
    "# Bowler calculations\n",
    "bowler_runs = 1800\n",
    "wickets = 75\n",
    "overs = 300\n",
    "\n",
    "bowler_avg = findavg(bowler_runs, wickets)\n",
    "bowler_er = economyrate(overs, bowler_runs)\n",
    "\n",
    "print(f\"Bowler Average: {bowler_avg:.2f}\")\n",
    "print(f\"Bowler Economy Rate: {bowler_er:.2f}\")\n",
    "# batsman.py\n",
    "def findaverage(runs, matches):\n",
    "    if matches == 0:\n",
    "        return 0\n",
    "    return runs / matches\n",
    "\n",
    "def strikerate(runs, balls):\n",
    "    if balls == 0:\n",
    "        return 0\n",
    "    return (runs / balls) * 100\n",
    "\n",
    "# bowler.py\n",
    "def findavg(runs, wickets):\n",
    "    if wickets == 0:\n",
    "        return float('inf')  # Avoid division by zero\n",
    "    return runs / wickets\n",
    "\n",
    "def economyrate(overs, runs):\n",
    "    if overs == 0:\n",
    "        return float('inf')  # Avoid division by zero\n",
    "    return runs / overs\n",
    "\n",
    "# main.py\n",
    "# Batsman calculations\n",
    "runs = 1500\n",
    "matches = 50\n",
    "balls = 1200\n",
    "\n",
    "batsman_avg = findaverage(runs, matches)\n",
    "batsman_sr = strikerate(runs, balls)\n",
    "\n",
    "print(f\"Batsman Average: {batsman_avg:.2f}\")\n",
    "print(f\"Batsman Strike Rate: {batsman_sr:.2f}\")\n",
    "\n",
    "# Bowler calculations\n",
    "bowler_runs = 1800\n",
    "wickets = 75\n",
    "overs = 300\n",
    "\n",
    "bowler_avg = findavg(bowler_runs, wickets)\n",
    "bowler_er = economyrate(overs, bowler_runs)\n",
    "\n",
    "print(f\"Bowler Average: {bowler_avg:.2f}\")\n",
    "print(f\"Bowler Economy Rate: {bowler_er:.2f}\")\n"
   ]
  },
  {
   "cell_type": "markdown",
   "id": "bec80f66-07d4-4985-ba2b-6e311c22c8de",
   "metadata": {},
   "source": [
    "Q2: Write a Python function to find whether the number if prime or not.\n",
    "def isPrime(num)"
   ]
  },
  {
   "cell_type": "code",
   "execution_count": 7,
   "id": "f1e4b6a6-c665-4181-9cbc-7963b797435e",
   "metadata": {},
   "outputs": [
    {
     "name": "stdout",
     "output_type": "stream",
     "text": [
      "Is 1 prime? False\n",
      "Is 2 prime? True\n",
      "Is 3 prime? True\n",
      "Is 4 prime? False\n",
      "Is 29 prime? True\n",
      "Is 35 prime? False\n"
     ]
    }
   ],
   "source": [
    "def isPrime(num):\n",
    "    # A prime number is greater than 1\n",
    "    if num <= 1:\n",
    "        return False\n",
    "    # 2 and 3 are prime numbers\n",
    "    if num <= 3:\n",
    "        return True\n",
    "    # Eliminate multiples of 2 and 3\n",
    "    if num % 2 == 0 or num % 3 == 0:\n",
    "        return False\n",
    "    # Check for primes using 6k ± 1 rule\n",
    "    i = 5\n",
    "    while i * i <= num:\n",
    "        if num % i == 0 or num % (i + 2) == 0:\n",
    "            return False\n",
    "        i += 6\n",
    "    return True\n",
    "\n",
    "# Test the function\n",
    "print(f\"Is 1 prime? {isPrime(1)}\")      # False\n",
    "print(f\"Is 2 prime? {isPrime(2)}\")      # True\n",
    "print(f\"Is 3 prime? {isPrime(3)}\")      # True\n",
    "print(f\"Is 4 prime? {isPrime(4)}\")      # False\n",
    "print(f\"Is 29 prime? {isPrime(29)}\")    # True\n",
    "print(f\"Is 35 prime? {isPrime(35)}\")    # False\n"
   ]
  },
  {
   "cell_type": "markdown",
   "id": "cf873ebe-e4c3-4e31-8981-3f2349bfd5a3",
   "metadata": {},
   "source": [
    "Q3.Write a function is_palindrome(string) that takes a string as input and returns\n",
    "True if the string reads the same backward as forward (e.g., \"racecar\" is a palindrome)"
   ]
  },
  {
   "cell_type": "code",
   "execution_count": 8,
   "id": "be7c5faa-05f9-4a93-80d9-e45dae5b1c93",
   "metadata": {},
   "outputs": [
    {
     "name": "stdout",
     "output_type": "stream",
     "text": [
      "True\n",
      "True\n",
      "False\n",
      "True\n",
      "True\n",
      "False\n"
     ]
    }
   ],
   "source": [
    "def is_palindrome(string):\n",
    "    # Remove non-alphanumeric characters and convert to lowercase\n",
    "    cleaned_string = ''.join(char.lower() for char in string if char.isalnum())\n",
    "    # Check if cleaned string is equal to its reverse\n",
    "    return cleaned_string == cleaned_string[::-1]\n",
    "\n",
    "# Test the function\n",
    "print(is_palindrome(\"racecar\"))  # True\n",
    "print(is_palindrome(\"A man, a plan, a canal, Panama\"))  # True\n",
    "print(is_palindrome(\"Hello\"))  # False\n",
    "print(is_palindrome(\"No 'x' in Nixon\"))  # True\n",
    "print(is_palindrome(\"Was it a car or a cat I saw\"))  # True\n",
    "print(is_palindrome(\"Not a palindrome\"))  # False"
   ]
  },
  {
   "cell_type": "markdown",
   "id": "8676a6ef-c85c-4645-a783-756e96a6ec9c",
   "metadata": {},
   "source": [
    "Q4 Write a function reverse_list(data) that takes a list as input and returns a new list\r\n",
    "with the elements in reverse order (e.g., reverse_list([1, 2, 3]) returns [3, 2, 1])\r"
   ]
  },
  {
   "cell_type": "code",
   "execution_count": 9,
   "id": "961c0ddf-29a2-439a-9975-29b81d9f5f6f",
   "metadata": {},
   "outputs": [
    {
     "name": "stdout",
     "output_type": "stream",
     "text": [
      "[3, 2, 1]\n",
      "['c', 'b', 'a']\n",
      "[True, False, True]\n",
      "[]\n",
      "[1]\n"
     ]
    }
   ],
   "source": [
    "def reverse_list(data):\n",
    "    return data[::-1]\n",
    "\n",
    "# Test the function\n",
    "print(reverse_list([1, 2, 3]))  # [3, 2, 1]\n",
    "print(reverse_list(['a', 'b', 'c']))  # ['c', 'b', 'a']\n",
    "print(reverse_list([True, False, True]))  # [True, False, True]\n",
    "print(reverse_list([]))  # []\n",
    "print(reverse_list([1]))  # [1]"
   ]
  },
  {
   "cell_type": "markdown",
   "id": "04efc940-834a-40f4-98ba-4fb932de1753",
   "metadata": {
    "scrolled": true
   },
   "source": [
    "Q5.Write a function write_file(filename, content) that takes a filename and\n",
    "content as input and writes the content to the specified file."
   ]
  },
  {
   "cell_type": "code",
   "execution_count": 13,
   "id": "de66eb0c-4d5c-4551-9fde-52b0bf94eaa1",
   "metadata": {},
   "outputs": [
    {
     "name": "stdout",
     "output_type": "stream",
     "text": [
      "This is the content of the file.\n"
     ]
    }
   ],
   "source": [
    "def write_file(filename, content):\n",
    "    with open(filename, 'w') as file:\n",
    "        file.write(content)\n",
    "\n",
    "# Example usage\n",
    "filename = 'example.txt'\n",
    "content = 'This is the content of the file.'\n",
    "\n",
    "write_file(filename, content)\n",
    "\n",
    "# Verify by reading the file\n",
    "with open(filename, 'r') as file:\n",
    "    print(file.read())\n",
    "\n"
   ]
  },
  {
   "cell_type": "markdown",
   "id": "8eb83651-f612-4994-b22e-44bf126b8fe2",
   "metadata": {},
   "source": [
    "Q6.Write a function copy_file(source_filename, destination_filename) that\n",
    "takes the source and destination filenames as input and copies the content of the source\n",
    "file to the destination file. Handle cases where the source file doesn't exist."
   ]
  },
  {
   "cell_type": "code",
   "execution_count": 14,
   "id": "75abce70-8576-436f-91b7-8b36ddb50e0c",
   "metadata": {},
   "outputs": [
    {
     "name": "stdout",
     "output_type": "stream",
     "text": [
      "Content copied from source.txt to destination.txt\n",
      "This is the content of the source file.\n"
     ]
    }
   ],
   "source": [
    "def copy_file(source_filename, destination_filename):\n",
    "    try:\n",
    "        with open(source_filename, 'r') as source_file:\n",
    "            content = source_file.read()\n",
    "        with open(destination_filename, 'w') as destination_file:\n",
    "            destination_file.write(content)\n",
    "        print(f\"Content copied from {source_filename} to {destination_filename}\")\n",
    "    except FileNotFoundError:\n",
    "        print(f\"The source file '{source_filename}' does not exist.\")\n",
    "\n",
    "# Example usage\n",
    "source_filename = 'source.txt'\n",
    "destination_filename = 'destination.txt'\n",
    "\n",
    "# Create a source file for demonstration\n",
    "with open(source_filename, 'w') as file:\n",
    "    file.write(\"This is the content of the source file.\")\n",
    "\n",
    "# Copy the content to the destination file\n",
    "copy_file(source_filename, destination_filename)\n",
    "\n",
    "# Verify by reading the destination file\n",
    "with open(destination_filename, 'r') as file:\n",
    "    print(file.read())"
   ]
  },
  {
   "cell_type": "markdown",
   "id": "ad6006d7-3adf-453e-899e-c84f3ee233c7",
   "metadata": {},
   "source": [
    "Q7.  Implement a function to calculate the dot product of two NumPy arrays.\r"
   ]
  },
  {
   "cell_type": "code",
   "execution_count": 15,
   "id": "d22b55ae-15c0-482d-8b26-4b6ff8e66d34",
   "metadata": {},
   "outputs": [
    {
     "name": "stdout",
     "output_type": "stream",
     "text": [
      "The dot product of [1 2 3] and [4 5 6] is 32\n"
     ]
    }
   ],
   "source": [
    "import numpy as np\n",
    "\n",
    "def dot_product(array1, array2):\n",
    "    return np.dot(array1, array2)\n",
    "\n",
    "# Example usage\n",
    "array1 = np.array([1, 2, 3])\n",
    "array2 = np.array([4, 5, 6])\n",
    "\n",
    "result = dot_product(array1, array2)\n",
    "print(f\"The dot product of {array1} and {array2} is {result}\")"
   ]
  },
  {
   "cell_type": "markdown",
   "id": "d28fe3f6-c0d5-484d-a477-99e10d929ec1",
   "metadata": {},
   "source": [
    "Q8. Implement a GUI with a radio button selection for choosing a favorite color (e.g., red,\n",
    "green, blue). Change the background color of the window based on the selected radio\n",
    "button."
   ]
  },
  {
   "cell_type": "code",
   "execution_count": 24,
   "id": "7940bef3-186d-447d-926a-84a4eae4b19a",
   "metadata": {},
   "outputs": [],
   "source": [
    "import tkinter as tk\n",
    "from threading import Thread\n",
    "\n",
    "def run_tkinter_app():\n",
    "    def change_color():\n",
    "        selected_color = color_var.get()\n",
    "        if selected_color == \"Red\":\n",
    "            root.configure(bg=\"red\")\n",
    "        elif selected_color == \"Green\":\n",
    "            root.configure(bg=\"green\")\n",
    "        elif selected_color == \"Blue\":\n",
    "            root.configure(bg=\"blue\")\n",
    "\n",
    "    # Create the main window\n",
    "    root = tk.Tk()\n",
    "    root.title(\"Favorite Color Selector\")\n",
    "    root.geometry(\"300x200\")\n",
    "\n",
    "    # Variable to store the selected color\n",
    "    color_var = tk.StringVar()\n",
    "    color_var.set(\"Red\")  # Default selection\n",
    "\n",
    "    # Create radio buttons for color selection\n",
    "    red_radio = tk.Radiobutton(root, text=\"Red\", variable=color_var, value=\"Red\", command=change_color)\n",
    "    red_radio.pack(anchor=tk.W)\n",
    "\n",
    "    green_radio = tk.Radiobutton(root, text=\"Green\", variable=color_var, value=\"Green\", command=change_color)\n",
    "    green_radio.pack(anchor=tk.W)\n",
    "\n",
    "    blue_radio = tk.Radiobutton(root, text=\"Blue\", variable=color_var, value=\"Blue\", command=change_color)\n",
    "    blue_radio.pack(anchor=tk.W)\n",
    "\n",
    "    # Set the initial background color\n",
    "    change_color()\n",
    "\n",
    "    # Run the main loop\n",
    "    root.mainloop()\n",
    "\n",
    "# Start the tkinter app in a separate thread\n",
    "thread = Thread(target=run_tkinter_app)\n",
    "thread.start()"
   ]
  },
  {
   "cell_type": "markdown",
   "id": "0e845355-bdf3-4994-8d5d-483320e03463",
   "metadata": {},
   "source": [
    "Q9.Design a currency converter GUI. Allow users to enter an amount and select the\n",
    "currencies they want to convert between (e.g., USD, EUR). Display the converted\n",
    "amount in the selected currency."
   ]
  },
  {
   "cell_type": "code",
   "execution_count": 25,
   "id": "7c24d81f-abc8-4b98-bc47-52665581ddb9",
   "metadata": {},
   "outputs": [],
   "source": [
    "import tkinter as tk\n",
    "from tkinter import ttk\n",
    "\n",
    "# Fixed exchange rates for simplicity\n",
    "exchange_rates = {\n",
    "    \"USD\": {\"EUR\": 0.85, \"USD\": 1, \"GBP\": 0.75},\n",
    "    \"EUR\": {\"USD\": 1.18, \"EUR\": 1, \"GBP\": 0.88},\n",
    "    \"GBP\": {\"USD\": 1.34, \"EUR\": 1.14, \"GBP\": 1},\n",
    "}\n",
    "\n",
    "def convert_currency():\n",
    "    try:\n",
    "        amount = float(amount_entry.get())\n",
    "        from_currency = from_currency_var.get()\n",
    "        to_currency = to_currency_var.get()\n",
    "        rate = exchange_rates[from_currency][to_currency]\n",
    "        converted_amount = amount * rate\n",
    "        result_var.set(f\"{converted_amount:.2f} {to_currency}\")\n",
    "    except ValueError:\n",
    "        result_var.set(\"Invalid amount entered\")\n",
    "\n",
    "# Create the main window\n",
    "root = tk.Tk()\n",
    "root.title(\"Currency Converter\")\n",
    "root.geometry(\"400x200\")\n",
    "\n",
    "# Amount entry\n",
    "tk.Label(root, text=\"Amount:\").grid(row=0, column=0, padx=10, pady=10)\n",
    "amount_entry = tk.Entry(root)\n",
    "amount_entry.grid(row=0, column=1, padx=10, pady=10)\n",
    "\n",
    "# From currency selection\n",
    "tk.Label(root, text=\"From:\").grid(row=1, column=0, padx=10, pady=10)\n",
    "from_currency_var = tk.StringVar(value=\"USD\")\n",
    "from_currency_menu = ttk.Combobox(root, textvariable=from_currency_var, values=list(exchange_rates.keys()))\n",
    "from_currency_menu.grid(row=1, column=1, padx=10, pady=10)\n",
    "\n",
    "# To currency selection\n",
    "tk.Label(root, text=\"To:\").grid(row=2, column=0, padx=10, pady=10)\n",
    "to_currency_var = tk.StringVar(value=\"EUR\")\n",
    "to_currency_menu = ttk.Combobox(root, textvariable=to_currency_var, values=list(exchange_rates.keys()))\n",
    "to_currency_menu.grid(row=2, column=1, padx=10, pady=10)\n",
    "\n",
    "# Convert button\n",
    "convert_button = tk.Button(root, text=\"Convert\", command=convert_currency)\n",
    "convert_button.grid(row=3, column=0, columnspan=2, padx=10, pady=10)\n",
    "\n",
    "# Result label\n",
    "result_var = tk.StringVar()\n",
    "result_label = tk.Label(root, textvariable=result_var)\n",
    "result_label.grid(row=4, column=0, columnspan=2, padx=10, pady=10)\n",
    "\n",
    "# Run the main loop\n",
    "root.mainloop()\n"
   ]
  },
  {
   "cell_type": "code",
   "execution_count": null,
   "id": "22e153f5-ede9-44a2-84fa-76791a1f87ec",
   "metadata": {},
   "outputs": [],
   "source": []
  }
 ],
 "metadata": {
  "kernelspec": {
   "display_name": "Python 3 (ipykernel)",
   "language": "python",
   "name": "python3"
  },
  "language_info": {
   "codemirror_mode": {
    "name": "ipython",
    "version": 3
   },
   "file_extension": ".py",
   "mimetype": "text/x-python",
   "name": "python",
   "nbconvert_exporter": "python",
   "pygments_lexer": "ipython3",
   "version": "3.11.7"
  }
 },
 "nbformat": 4,
 "nbformat_minor": 5
}
